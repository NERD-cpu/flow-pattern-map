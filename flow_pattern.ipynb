{
 "cells": [
  {
   "cell_type": "markdown",
   "metadata": {},
   "source": [
    "# Before you use this notebook\n",
    "\n",
    "## Disable Data Execution Prevention - DEP\n",
    "1. Type cmd in the start search menu, **right-click** on it and select **Run as Administrator**.\n",
    "2. Once the command prompt is open, you can now disable [Data Execution Prevention](https://pt.wikipedia.org/wiki/Data_Execution_Prevention) (DEP) by entering the following command line.\n",
    "        bcdedit.exe /set nx AlwaysOff\n",
    "3. And to enable it back,\n",
    "        bcdedit.exe /set nx AlwaysOn\n",
    "\n",
    "## Conda env config\n",
    "\n",
    "Download [miniconda](https://conda.io/miniconda.html) (python 3.X - 64bit):\n",
    "\n",
    "    set CONDA_FORCE_32BIT=1\n",
    "    conda create -n py3_32bit python=3 numpy matplotlib seaborn pandas\n",
    "    activate py3_32bit\n",
    "\n",
    "**NOTE**: Always remember to `set CONDA_FORCE_32BIT=1` before activating env."
   ]
  },
  {
   "cell_type": "code",
   "execution_count": 1,
   "metadata": {
    "collapsed": true
   },
   "outputs": [],
   "source": [
    "import os\n",
    "from ctypes import *\n",
    "os.environ[\"PATH\"] += 'bin'\n",
    "pat_flow = windll.LoadLibrary('PatFlow.dll')"
   ]
  },
  {
   "cell_type": "code",
   "execution_count": 2,
   "metadata": {
    "collapsed": true
   },
   "outputs": [],
   "source": [
    "import numpy as np\n",
    "\n",
    "def calculate_flow_pattern_transition(ρ, μ, σ, D, θ, k_s, interface, Nt=6, n=40, nc=5, Tr=None, E_Tr=None):\n",
    "    \"\"\"\n",
    "    Nt = 6  # Number of Transition\n",
    "    n  = 40 # Number of points\n",
    "    nc = 5  # Number of cicles\n",
    "    \n",
    "    \"\"\"\n",
    "    prop = [ρ[0], μ[0], σ, ρ[1], μ[1], D, θ, k_s, interface]\n",
    "    \n",
    "    # Output Variables\n",
    "    if Tr is None:\n",
    "        Tr   = np.zeros((n*nc, Nt*2), dtype=np.float64) # Transition Matrix\n",
    "        Tr   = np.asfortranarray(Tr) # This is important!\n",
    "    if E_Tr is None:\n",
    "        E_Tr = np.ones((n*nc, Nt  ), dtype=np.int)      # Error Matrix \n",
    "        E_Tr = np.asfortranarray(E_Tr) # This is important!\n",
    "    \n",
    "    time = c_double(0.0)\n",
    "\n",
    "    # Call PATFLOW(Prop(1), n, nc, Nt, Tr(1, 1), ETr(1, 1), Time)\n",
    "    pat_flow.PATFLOW(\n",
    "        np.asarray(prop).ctypes.data_as(POINTER(c_double)), \n",
    "        byref(c_int(n )), \n",
    "        byref(c_int(nc)), \n",
    "        byref(c_int(Nt)), \n",
    "        Tr.ctypes.data_as(POINTER(c_double)), \n",
    "        E_Tr.ctypes.data_as(POINTER(c_int)), \n",
    "        byref(time)\n",
    "    )\n",
    "    \n",
    "    return Tr, E_Tr"
   ]
  },
  {
   "cell_type": "code",
   "execution_count": 3,
   "metadata": {
    "collapsed": true
   },
   "outputs": [],
   "source": [
    "def calculate_flow_pattern(U_SL, U_SG, ρ, μ, σ, D, θ, k_s, interface):\n",
    "    prop = [ρ[0], μ[0], σ, ρ[1], μ[1], D, θ, k_s, interface]\n",
    "\n",
    "    FPPredAux = c_int()\n",
    "    IERR      = c_int()\n",
    "\n",
    "    # Call GLFPPRED(Prop(1), VsL, VsG, FPPredAux, IERR)\n",
    "    pat_flow.GLFPPRED(\n",
    "        np.asarray(prop).ctypes.data_as(POINTER(c_double)),\n",
    "        byref(c_double(U_SL)), \n",
    "        byref(c_double(U_SG)), \n",
    "        byref(FPPredAux), \n",
    "        byref(IERR)\n",
    "    )\n",
    "    FPPred = {1: 'SS',\n",
    "              2: 'SW',\n",
    "              3:  'A',\n",
    "              4: 'DB',\n",
    "              5:  'B',\n",
    "              6: 'SL',}\n",
    "\n",
    "    return FPPredAux.value, FPPred[FPPredAux.value], IERR.value"
   ]
  },
  {
   "cell_type": "code",
   "execution_count": 4,
   "metadata": {},
   "outputs": [
    {
     "data": {
      "application/vnd.jupyter.widget-view+json": {
       "model_id": "7708ff946c96473d8b67dc47021537f9"
      }
     },
     "metadata": {},
     "output_type": "display_data"
    }
   ],
   "source": [
    "import seaborn\n",
    "import matplotlib.pyplot as plt\n",
    "import matplotlib\n",
    "from buttons import *\n",
    "from ipywidgets import interact\n",
    "\n",
    "Nt=6\n",
    "n=40\n",
    "nc=5\n",
    "Tr   = np.zeros((n*nc, Nt*2), dtype=np.float64) # Transition Matrix\n",
    "Tr   = np.asfortranarray(Tr) # This is important!\n",
    "E_Tr = np.ones((n*nc, Nt  ), dtype=np.int)      # Error Matrix \n",
    "E_Tr = np.asfortranarray(E_Tr) # This is important!\n",
    "\n",
    "\n",
    "@interact(\n",
    "    # Density\n",
    "    ρ_L=ρ_L_button,   \n",
    "    ρ_G=ρ_G_button,    \n",
    "    # Viscosity\n",
    "    μ_L=μ_L_button,\n",
    "    μ_G=μ_G_button,    \n",
    "    # Surface Tension\n",
    "    σ=σ_button,    \n",
    "    # Pipe Diameter\n",
    "    D=D_button,    \n",
    "    # Pipe Inclination\n",
    "    θ=θ_button,\n",
    "    # Pipe Roughness\n",
    "    k_s=k_s_button,    \n",
    "    interface=interface_button,\n",
    "    plot_mesh=plot_mesh_button\n",
    ")\n",
    "def plot_transition_points(ρ_L, ρ_G, μ_L, μ_G, σ, D, θ, k_s, interface, plot_mesh=False):\n",
    "    fig = plt.figure(figsize=(10,10))\n",
    "    plt.clf()\n",
    "    plt.title('Flow Pattern Map', fontsize='x-large')\n",
    "\n",
    "    labels = ['Stratified, Non-Stratified Flow',\n",
    "              'Annular Flow',\n",
    "              'Stratified Smooth-Wavy Flow',\n",
    "              'Dispersed Bubble Flow',\n",
    "              'Bubble Flow', 'Other']\n",
    "\n",
    "    plt.grid(b=True, which='both', color='w')\n",
    "    plt.axis('equal')\n",
    "\n",
    "    plt.ylim((1e-3,100))\n",
    "    plt.xlim((1e-3,100))\n",
    "    plt.xlabel('$U_{SG}$', fontsize='x-large')\n",
    "    plt.ylabel('$U_{SL}$', fontsize='x-large')\n",
    "\n",
    "    \n",
    "    ρ   = [ρ_L, ρ_G]\n",
    "    μ   = [μ_L, μ_G]\n",
    "    θ = np.deg2rad(θ) # [rad]\n",
    "\n",
    "    transition_points, error_matrix = calculate_flow_pattern_transition(ρ, μ, σ, D, θ, k_s, interface, Tr=Tr, E_Tr=E_Tr)\n",
    "\n",
    "    for i in range(error_matrix.shape[1]):\n",
    "        x = transition_points[error_matrix[:, i] == 0, 2*i  ]\n",
    "        y = transition_points[error_matrix[:, i] == 0, 2*i+1]\n",
    "        plt.loglog(x, y, label=labels[i])\n",
    "\n",
    "    if plot_mesh == 'True':\n",
    "        nx, ny = 50, 50\n",
    "        x = np.logspace(-3, 2, num=nx)\n",
    "        y = np.logspace(-3, 2, num=ny)\n",
    "\n",
    "        xv, yv = np.meshgrid(x, y, sparse=False, indexing='ij')\n",
    "        flow_pattern = np.zeros_like(xv, dtype=int)\n",
    "        for i in range(nx):\n",
    "            for j in range(ny):\n",
    "                U_SL = xv[i,j]\n",
    "                U_SG = yv[i,j]\n",
    "\n",
    "                idx, fp, ierr = calculate_flow_pattern(U_SL, U_SG, ρ, μ, σ, D, θ, k_s, interface)\n",
    "                flow_pattern[i,j] = idx\n",
    "            \n",
    "        norm = matplotlib.colors.Normalize(vmin=0,vmax=5)\n",
    "\n",
    "        plt.scatter(yv.flatten(), \n",
    "                    xv.flatten(), \n",
    "                    c=flow_pattern.flatten(), \n",
    "                    cmap=plt.get_cmap('Set1'), \n",
    "                    norm=norm)\n",
    "\n",
    "    plt.legend(facecolor='w', fontsize='x-large')\n",
    "\n",
    "    plt.show()"
   ]
  },
  {
   "cell_type": "code",
   "execution_count": 5,
   "metadata": {},
   "outputs": [
    {
     "data": {
      "text/html": [
       "<script>requirejs.config({paths: { 'plotly': ['https://cdn.plot.ly/plotly-latest.min']},});if(!window.Plotly) {{require(['plotly'],function(plotly) {window.Plotly=plotly;});}}</script>"
      ],
      "text/plain": [
       "<IPython.core.display.HTML object>"
      ]
     },
     "metadata": {},
     "output_type": "display_data"
    },
    {
     "data": {
      "application/vnd.jupyter.widget-view+json": {
       "model_id": "fd080b7e4a4942eaa3bc048bf4476a2d"
      }
     },
     "metadata": {},
     "output_type": "display_data"
    }
   ],
   "source": [
    "from plotly.offline import init_notebook_mode, iplot\n",
    "import plotly.graph_objs as go\n",
    "\n",
    "init_notebook_mode(connected=True)\n",
    "\n",
    "@interact(\n",
    "    # Density\n",
    "    ρ_L=ρ_L_button,   \n",
    "    ρ_G=ρ_G_button,    \n",
    "    # Viscosity\n",
    "    μ_L=μ_L_button,\n",
    "    μ_G=μ_G_button,    \n",
    "    # Surface Tension\n",
    "    σ=σ_button,    \n",
    "    # Pipe Diameter\n",
    "    D=D_button,    \n",
    "    # Pipe Inclination\n",
    "    θ=θ_button,\n",
    "    # Pipe Roughness\n",
    "    k_s=k_s_button,    \n",
    "    interface=interface_button\n",
    ")\n",
    "def plotly_transition_points(ρ_L, ρ_G, μ_L, μ_G, σ, D, θ, k_s, interface):\n",
    "    labels = ['Stratified, Non-Stratified Flow',\n",
    "              'Annular Flow',\n",
    "              'Stratified Smooth-Wavy Flow',\n",
    "              'Dispersed Bubble Flow',\n",
    "              'Bubble Flow', 'Other']\n",
    "\n",
    "    ρ   = [ρ_L, ρ_G]\n",
    "    μ   = [μ_L, μ_G]\n",
    "    θ = np.deg2rad(θ) # [rad]\n",
    "\n",
    "    transition_points, error_matrix = calculate_flow_pattern_transition(ρ, μ, σ, D, θ, k_s, interface, Tr=Tr, E_Tr=E_Tr)\n",
    "\n",
    "    data = []\n",
    "    for i in range(error_matrix.shape[1]):\n",
    "        x = transition_points[error_matrix[:, i] == 0, 2*i  ]\n",
    "        y = transition_points[error_matrix[:, i] == 0, 2*i+1]       \n",
    "        trace = go.Scatter(x=x, y=y, name=labels[i])\n",
    "        data.append(trace)\n",
    "\n",
    "    layout = go.Layout(\n",
    "        title='Flow Pattern Map',\n",
    "        width=800,\n",
    "        height=650,\n",
    "        showlegend=True,\n",
    "        legend=dict(orientation=\"v\"),\n",
    "        xaxis=dict(\n",
    "            title='Gas Superficial Velocity [m/s]',\n",
    "            type='log',\n",
    "            range=(-3, 2),\n",
    "            autotick=False,\n",
    "        ),\n",
    "        yaxis=dict(\n",
    "            title='Liquid Superficial Velocity [m/s]',\n",
    "            type='log',\n",
    "            range=(-3, 2),\n",
    "            autotick=False,\n",
    "        )\n",
    "    )\n",
    "    fig = go.Figure(data=data, layout=layout)\n",
    "    iplot(fig)"
   ]
  },
  {
   "cell_type": "markdown",
   "metadata": {},
   "source": [
    "# Static Example"
   ]
  },
  {
   "cell_type": "code",
   "execution_count": 6,
   "metadata": {},
   "outputs": [
    {
     "data": {
      "image/png": "[encoded data removed]",
      "text/plain": [
       "<matplotlib.figure.Figure at 0x953ff70>"
      ]
     },
     "metadata": {},
     "output_type": "display_data"
    }
   ],
   "source": [
    "plot_transition_points(ρ_L=1000, ρ_G=2, μ_L=1e-3, μ_G=1e-5, σ=0.07, D=0.1, θ=0, k_s=0, interface=1)"
   ]
  },
  {
   "cell_type": "markdown",
   "metadata": {},
   "source": [
    "## APPENDIX\n",
    "\n",
    "### Some info about `PatFlow.dll`:\n",
    "```\n",
    "Dump of file PatFlow.dll\n",
    "File Type: DLL\n",
    "  Section contains the following exports for PatFlow.dll\n",
    "    ordinal hint RVA      name\n",
    "          1    0 00008A3B GLFPPRED\n",
    "          3    1 000082D4 HLD\n",
    "          5    2 00008439 HLDUP\n",
    "          7    3 00007F78 PATFLOW\n",
    "          9    4 0000859E VSGHLDCNT\n",
    "         11    5 00008703 VSGVLCNT\n",
    "         13    6 0000889F VSGVLCNTUP\n",
    "          2    7 00008A3B _GLFPPRED@20\n",
    "          4    8 000082D4 _HLD@20\n",
    "          6    9 00008439 _HLDUP@20\n",
    "          8    A 00007F78 _PATFLOW@28\n",
    "         10    B 0000859E _VSGHLDCNT@20\n",
    "         12    C 00008703 _VSGVLCNT@20\n",
    "         14    D 0000889F _VSGVLCNTUP@20\n",
    "```"
   ]
  }
 ],
 "metadata": {
  "kernelspec": {
   "display_name": "Python 3",
   "language": "python",
   "name": "python3"
  },
  "language_info": {
   "codemirror_mode": {
    "name": "ipython",
    "version": 3
   },
   "file_extension": ".py",
   "mimetype": "text/x-python",
   "name": "python",
   "nbconvert_exporter": "python",
   "pygments_lexer": "ipython3",
   "version": "3.6.1"
  }
 },
 "nbformat": 4,
 "nbformat_minor": 2
}
